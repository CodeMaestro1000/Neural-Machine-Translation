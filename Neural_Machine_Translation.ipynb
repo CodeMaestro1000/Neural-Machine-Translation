{
  "nbformat": 4,
  "nbformat_minor": 0,
  "metadata": {
    "colab": {
      "name": "Neural Machine Translation.ipynb",
      "provenance": [],
      "toc_visible": true
    },
    "kernelspec": {
      "name": "python3",
      "display_name": "Python 3"
    },
    "accelerator": "GPU"
  },
  "cells": [
    {
      "cell_type": "markdown",
      "metadata": {
        "id": "YrGdLot3co75"
      },
      "source": [
        "# Introduction\n",
        "In this colab, we're going to make use of Neural Machine Translation and Bahdanau and Luong's attention mechanism to build a language translator for text data.\n",
        "\n",
        "Most of the code in this colab is already available as a tensorflow example. See example at:\n",
        "\n",
        "https://www.tensorflow.org/tutorials/text/nmt_with_attention"
      ]
    },
    {
      "cell_type": "code",
      "metadata": {
        "id": "_iRd6eZrdJPI",
        "outputId": "19954300-b210-4ac3-9ef6-b32a8977eced",
        "colab": {
          "base_uri": "https://localhost:8080/",
          "height": 34
        }
      },
      "source": [
        "from google.colab import drive\n",
        "drive.mount('/content/drive')"
      ],
      "execution_count": null,
      "outputs": [
        {
          "output_type": "stream",
          "text": [
            "Mounted at /content/drive\n"
          ],
          "name": "stdout"
        }
      ]
    },
    {
      "cell_type": "code",
      "metadata": {
        "id": "gVDIURfEdt8p",
        "outputId": "9aaff2ca-e5a3-4fa9-feb8-23dc30bb3469",
        "colab": {
          "base_uri": "https://localhost:8080/",
          "height": 68
        }
      },
      "source": [
        "# unzip file\n",
        "! unzip '/content/drive/My Drive/deu-eng.zip' -d '/content/drive/My Drive/deu-eng'"
      ],
      "execution_count": null,
      "outputs": [
        {
          "output_type": "stream",
          "text": [
            "Archive:  /content/drive/My Drive/deu-eng.zip\n",
            "  inflating: /content/drive/My Drive/deu-eng/deu.txt  \n",
            "  inflating: /content/drive/My Drive/deu-eng/_about.txt  \n"
          ],
          "name": "stdout"
        }
      ]
    },
    {
      "cell_type": "code",
      "metadata": {
        "id": "EddySp42euEZ"
      },
      "source": [
        "# import modules and APIs\n",
        "import tensorflow as tf\n",
        "\n",
        "import matplotlib.pyplot as plt\n",
        "import matplotlib.ticker as ticker\n",
        "from sklearn.model_selection import train_test_split\n",
        "\n",
        "import unicodedata\n",
        "import re\n",
        "import numpy as np\n",
        "import os\n",
        "import io\n",
        "import time"
      ],
      "execution_count": null,
      "outputs": []
    },
    {
      "cell_type": "markdown",
      "metadata": {
        "id": "qWFC1V-PdEID"
      },
      "source": [
        "# Data Preparation."
      ]
    },
    {
      "cell_type": "markdown",
      "metadata": {
        "id": "2DOqwdF_fbZm"
      },
      "source": [
        "In the next steps, we have to create functions that will: \n",
        "\n",
        "*   Convert the data from unicode to ascii\n",
        "*   Add a start and end token to each sentence.\n",
        "*   Clean the sentences by removing special characters.\n",
        "*   Okenize the data to create word tokens and pad necessary tokens.\n",
        "\n",
        "\n",
        "\n",
        "\n",
        "\n"
      ]
    },
    {
      "cell_type": "code",
      "metadata": {
        "id": "MR9gCguHgSYb"
      },
      "source": [
        "# Converts the unicode file to ascii\n",
        "def unicode_to_ascii(s):\n",
        "  return ''.join(c for c in unicodedata.normalize('NFD', s)\n",
        "      if unicodedata.category(c) != 'Mn')\n",
        "\n",
        "\n",
        "def preprocess_sentence(w):\n",
        "  w = unicode_to_ascii(w.lower().strip())\n",
        "\n",
        "  # creating a space between a word and the punctuation following it\n",
        "  # eg: \"he is a boy.\" => \"he is a boy .\"\n",
        "  w = re.sub(r\"([?.!,¿])\", r\" \\1 \", w)\n",
        "  w = re.sub(r'[\" \"]+', \" \", w)\n",
        "\n",
        "  # replacing everything with space except (a-z, A-Z, \".\", \"?\", \"!\", \",\")\n",
        "  w = re.sub(r\"[^a-zA-Z?.!,¿]+\", \" \", w)\n",
        "\n",
        "  w = w.strip()\n",
        "\n",
        "  # adding a start and an end token to the sentence\n",
        "  # so that the model know when to start and stop predicting.\n",
        "  w = '<start> ' + w + ' <end>'\n",
        "  return w"
      ],
      "execution_count": null,
      "outputs": []
    },
    {
      "cell_type": "markdown",
      "metadata": {
        "id": "Rm2RKtobghsE"
      },
      "source": [
        "Next, we'll create a function that puts all the pre-processing together and returns the sentances as source-target pairs."
      ]
    },
    {
      "cell_type": "code",
      "metadata": {
        "id": "AQ4FWspFgb3o"
      },
      "source": [
        "# 1. Remove the accents\n",
        "# 2. Clean the sentences\n",
        "# 3. Return word pairs in the format: [ENGLISH, GERMAN ]\n",
        "def create_dataset(path, num_examples):\n",
        "  lines = io.open(path, encoding='UTF-8').read().strip().split('\\n')\n",
        "  word_pairs = [[preprocess_sentence(w) for w in l.split('\\t')[:-1]]  for l in lines[:num_examples]]\n",
        "  return zip(*word_pairs)"
      ],
      "execution_count": null,
      "outputs": []
    },
    {
      "cell_type": "markdown",
      "metadata": {
        "id": "J_B1Z0tPhZ9q"
      },
      "source": [
        "Finally, we'll tokenize the sentences."
      ]
    },
    {
      "cell_type": "code",
      "metadata": {
        "id": "ZnAQD3MihX02"
      },
      "source": [
        "def tokenize(lang):\n",
        "  lang_tokenizer = tf.keras.preprocessing.text.Tokenizer(\n",
        "      filters='')\n",
        "  lang_tokenizer.fit_on_texts(lang)\n",
        "\n",
        "  tensor = lang_tokenizer.texts_to_sequences(lang)\n",
        "\n",
        "  tensor = tf.keras.preprocessing.sequence.pad_sequences(tensor,\n",
        "                                                         padding='post')\n",
        "\n",
        "  return tensor, lang_tokenizer\n",
        "\n",
        "# Function slightly modified to return input before target\n",
        "def load_dataset(path, num_examples=None):\n",
        "  # creating cleaned input, output pairs\n",
        "  inp_lang, targ_lang = create_dataset(path, num_examples)\n",
        "\n",
        "  input_tensor, inp_lang_tokenizer = tokenize(inp_lang)\n",
        "  target_tensor, targ_lang_tokenizer = tokenize(targ_lang)\n",
        "\n",
        "  return input_tensor, target_tensor, inp_lang_tokenizer, targ_lang_tokenizer"
      ],
      "execution_count": null,
      "outputs": []
    },
    {
      "cell_type": "markdown",
      "metadata": {
        "id": "H5IN1nPKiByM"
      },
      "source": [
        "Beforewe continue, let's take a look at how our raw data looks."
      ]
    },
    {
      "cell_type": "code",
      "metadata": {
        "id": "jyeqL9utiIpp",
        "outputId": "139dff7a-b191-4288-dc13-fbe18e9742de",
        "colab": {
          "base_uri": "https://localhost:8080/",
          "height": 187
        }
      },
      "source": [
        "file_path = r'/content/drive/My Drive/deu-eng/deu.txt'\n",
        "ct = 0\n",
        "with open(file_path, \"r\") as dfile:\n",
        "  for line in dfile:\n",
        "    print(line)\n",
        "    ct += 1\n",
        "    if ct > 4:\n",
        "      break"
      ],
      "execution_count": null,
      "outputs": [
        {
          "output_type": "stream",
          "text": [
            "Go.\tGeh.\tCC-BY 2.0 (France) Attribution: tatoeba.org #2877272 (CM) & #8597805 (Roujin)\n",
            "\n",
            "Hi.\tHallo!\tCC-BY 2.0 (France) Attribution: tatoeba.org #538123 (CM) & #380701 (cburgmer)\n",
            "\n",
            "Hi.\tGrüß Gott!\tCC-BY 2.0 (France) Attribution: tatoeba.org #538123 (CM) & #659813 (Esperantostern)\n",
            "\n",
            "Run!\tLauf!\tCC-BY 2.0 (France) Attribution: tatoeba.org #906328 (papabear) & #941078 (Fingerhut)\n",
            "\n",
            "Run.\tLauf!\tCC-BY 2.0 (France) Attribution: tatoeba.org #4008918 (JSakuragi) & #941078 (Fingerhut)\n",
            "\n"
          ],
          "name": "stdout"
        }
      ]
    },
    {
      "cell_type": "markdown",
      "metadata": {
        "id": "kYP5EppqjTQV"
      },
      "source": [
        "As we can see here, it seems like some of the lines of the file are duplicates. However, it seems like duplicates should not affect our performance.\n",
        "\n",
        "Let's apply the pre-processig now."
      ]
    },
    {
      "cell_type": "code",
      "metadata": {
        "id": "vOr7DZttkDN8"
      },
      "source": [
        "dfile.close()"
      ],
      "execution_count": null,
      "outputs": []
    },
    {
      "cell_type": "code",
      "metadata": {
        "id": "zgp16RI4kGPf",
        "outputId": "6db8dacc-9f2a-4d5d-eb93-f30c590e2957",
        "colab": {
          "base_uri": "https://localhost:8080/",
          "height": 88
        }
      },
      "source": [
        "en, de = create_dataset(file_path, None)\n",
        "print(en[-1])\n",
        "print(de[-1])"
      ],
      "execution_count": null,
      "outputs": [
        {
          "output_type": "stream",
          "text": [
            "['<start> go . <end>', '<start> geh . <end>']\n",
            "<start> doubtless there exists in this world precisely the right woman for any given man to marry and vice versa but when you consider that a human being has the opportunity of being acquainted with only a few hundred people , and out of the few hundred that there are but a dozen or less whom he knows intimately , and out of the dozen , one or two friends at most , it will easily be seen , when we remember the number of millions who inhabit this world , that probably , since the earth was created , the right man has never yet met the right woman . <end>\n",
            "<start> ohne zweifel findet sich auf dieser welt zu jedem mann genau die richtige ehefrau und umgekehrt wenn man jedoch in betracht zieht , dass ein mensch nur gelegenheit hat , mit ein paar hundert anderen bekannt zu sein , von denen ihm nur ein dutzend oder weniger nahesteht , darunter hochstens ein oder zwei freunde , dann erahnt man eingedenk der millionen einwohner dieser welt leicht , dass seit erschaffung ebenderselben wohl noch nie der richtige mann der richtigen frau begegnet ist . <end>\n"
          ],
          "name": "stdout"
        }
      ]
    },
    {
      "cell_type": "markdown",
      "metadata": {
        "id": "8twr1NJTn9I-"
      },
      "source": [
        "Our dataset contains more than 200,000 examples. Let's make use of 100,000 examples (to enhance training time)."
      ]
    },
    {
      "cell_type": "code",
      "metadata": {
        "id": "AxPZLQ5-n59U"
      },
      "source": [
        "num_examples = 100000\n",
        "input_tensor, target_tensor, inp_lang, targ_lang = load_dataset(file_path, num_examples)\n",
        "\n",
        "# Calculate max_length of the target tensors\n",
        "max_length_targ, max_length_inp = target_tensor.shape[1], input_tensor.shape[1]"
      ],
      "execution_count": null,
      "outputs": []
    },
    {
      "cell_type": "code",
      "metadata": {
        "id": "L9wmwX0DobPJ",
        "outputId": "f33b6553-47d2-46f8-e460-985b5cd1482e",
        "colab": {
          "base_uri": "https://localhost:8080/",
          "height": 51
        }
      },
      "source": [
        "print('Max input length: {}'.format(max_length_targ))\n",
        "print('Max output length: {}'.format(max_length_inp))"
      ],
      "execution_count": null,
      "outputs": [
        {
          "output_type": "stream",
          "text": [
            "Max input length: 22\n",
            "Max output length: 12\n"
          ],
          "name": "stdout"
        }
      ]
    },
    {
      "cell_type": "code",
      "metadata": {
        "id": "mwISnnq0ovE2",
        "outputId": "02fe8246-1702-43db-cc96-3be7fd75a5e8",
        "colab": {
          "base_uri": "https://localhost:8080/",
          "height": 34
        }
      },
      "source": [
        "# Creating training and validation sets using an 80-20 split\n",
        "X_train, X_val, y_train, y_val = train_test_split(input_tensor, target_tensor, test_size=0.2)\n",
        "\n",
        "# Show length\n",
        "print(len(X_train), len(y_train), len(X_val), len(y_val))"
      ],
      "execution_count": null,
      "outputs": [
        {
          "output_type": "stream",
          "text": [
            "80000 80000 20000 20000\n"
          ],
          "name": "stdout"
        }
      ]
    },
    {
      "cell_type": "code",
      "metadata": {
        "id": "SzDYoY4FpJhD"
      },
      "source": [
        "# Function displays the word index in tensor\n",
        "# Word index is created by tokenizer.\n",
        "def convert(lang, tensor):\n",
        "  for t in tensor:\n",
        "    if t!=0:\n",
        "      print (\"%d ----> %s\" % (t, lang.index_word[t]))"
      ],
      "execution_count": null,
      "outputs": []
    },
    {
      "cell_type": "code",
      "metadata": {
        "id": "f-svfLaEpdsH",
        "outputId": "534e49c4-a391-47e8-83cc-7a5197b007dc",
        "colab": {
          "base_uri": "https://localhost:8080/",
          "height": 391
        }
      },
      "source": [
        "print (\"Input Language; index to word mapping\")\n",
        "convert(inp_lang, X_train[0])\n",
        "print ()\n",
        "print (\"Target Language; index to word mapping\")\n",
        "convert(targ_lang, y_train[0])"
      ],
      "execution_count": null,
      "outputs": [
        {
          "output_type": "stream",
          "text": [
            "Input Language; index to word mapping\n",
            "1 ----> <start>\n",
            "53 ----> why\n",
            "65 ----> didn\n",
            "11 ----> t\n",
            "6 ----> you\n",
            "123 ----> say\n",
            "787 ----> goodbye\n",
            "7 ----> ?\n",
            "2 ----> <end>\n",
            "\n",
            "Target Language; index to word mapping\n",
            "1 ----> <start>\n",
            "56 ----> warum\n",
            "35 ----> haben\n",
            "10 ----> sie\n",
            "9 ----> nicht\n",
            "30 ----> auf\n",
            "957 ----> wiedersehen\n",
            "134 ----> gesagt\n",
            "6 ----> ?\n",
            "2 ----> <end>\n"
          ],
          "name": "stdout"
        }
      ]
    },
    {
      "cell_type": "code",
      "metadata": {
        "id": "xhy-65DAqv5d"
      },
      "source": [
        "# Create TF dataset\n",
        "BUFFER_SIZE = len(X_train)\n",
        "BATCH_SIZE = 64\n",
        "steps_per_epoch = len(X_train)//BATCH_SIZE\n",
        "embedding_dim = 256\n",
        "units = 1024\n",
        "vocab_inp_size = len(inp_lang.word_index)+1\n",
        "vocab_tar_size = len(targ_lang.word_index)+1\n",
        "\n",
        "dataset = tf.data.Dataset.from_tensor_slices((X_train, y_train)).shuffle(BUFFER_SIZE)\n",
        "dataset = dataset.batch(BATCH_SIZE, drop_remainder=True)"
      ],
      "execution_count": null,
      "outputs": []
    },
    {
      "cell_type": "code",
      "metadata": {
        "id": "5pM_fqIVrD7Y",
        "outputId": "def3657e-80d8-4db4-cf09-ee6fe63e4413",
        "colab": {
          "base_uri": "https://localhost:8080/",
          "height": 34
        }
      },
      "source": [
        "example_input_batch, example_target_batch = next(iter(dataset))\n",
        "example_input_batch.shape, example_target_batch.shape"
      ],
      "execution_count": null,
      "outputs": [
        {
          "output_type": "execute_result",
          "data": {
            "text/plain": [
              "(TensorShape([64, 12]), TensorShape([64, 22]))"
            ]
          },
          "metadata": {
            "tags": []
          },
          "execution_count": 43
        }
      ]
    },
    {
      "cell_type": "markdown",
      "metadata": {
        "id": "QUtqCj_mrH0l"
      },
      "source": [
        "# Encoder and Decoder Model.\n",
        "\n",
        "The encoder model maps the input data to a vector called the context vector. Thus encoding maps the *meaning* of the input sentence into a vector.\n",
        "\n",
        "The encoder model also contains an attention layer which we'll see later. This layer makes use of attention weights to give more attention to specific words in the input sentence."
      ]
    },
    {
      "cell_type": "code",
      "metadata": {
        "id": "dW3bMQEgrHUG"
      },
      "source": [
        "class Encoder(tf.keras.Model):\n",
        "  def __init__(self, vocab_size, embedding_dim, enc_units, batch_sz):\n",
        "    super(Encoder, self).__init__()\n",
        "    self.batch_sz = batch_sz\n",
        "    self.enc_units = enc_units\n",
        "    self.embedding = tf.keras.layers.Embedding(vocab_size, embedding_dim)\n",
        "    self.gru = tf.keras.layers.GRU(self.enc_units,\n",
        "                                   return_sequences=True,\n",
        "                                   return_state=True,\n",
        "                                   recurrent_initializer='glorot_uniform')\n",
        "\n",
        "  def call(self, x, hidden):\n",
        "    x = self.embedding(x)\n",
        "    output, state = self.gru(x, initial_state = hidden)\n",
        "    return output, state\n",
        "\n",
        "  def initialize_hidden_state(self):\n",
        "    return tf.zeros((self.batch_sz, self.enc_units))\n"
      ],
      "execution_count": null,
      "outputs": []
    },
    {
      "cell_type": "markdown",
      "metadata": {
        "id": "WHPsC9tOs5kX"
      },
      "source": [
        "The Encoder class returns an output along with the hidden-state vector (or context vector).\n",
        "\n",
        "The attention layer takes the encoder output, the encoder hidden-state to compute the attention weights.\n",
        "\n",
        "With these weights, the context vector is computed and with the context vector along with the a tanh activation function, the attention vector is produced.\n",
        "\n",
        "See equations:\n",
        "https://www.tensorflow.org/tutorials/text/nmt_with_attention#write_the_encoder_and_decoder_model"
      ]
    },
    {
      "cell_type": "code",
      "metadata": {
        "id": "dvgSubEmtvlf"
      },
      "source": [
        "class BahdanauAttention(tf.keras.layers.Layer):\n",
        "  def __init__(self, units):\n",
        "    super(BahdanauAttention, self).__init__()\n",
        "    self.W1 = tf.keras.layers.Dense(units)\n",
        "    self.W2 = tf.keras.layers.Dense(units)\n",
        "    self.V = tf.keras.layers.Dense(1)\n",
        "\n",
        "  def call(self, query, values):\n",
        "    # query hidden state shape == (batch_size, hidden size)\n",
        "    # query_with_time_axis shape == (batch_size, 1, hidden size)\n",
        "    # values shape == (batch_size, max_len, hidden size)\n",
        "    # we are doing this to broadcast addition along the time axis to calculate the score\n",
        "    query_with_time_axis = tf.expand_dims(query, 1)\n",
        "\n",
        "    # score shape == (batch_size, max_length, 1)\n",
        "    # we get 1 at the last axis because we are applying score to self.V\n",
        "    # the shape of the tensor before applying self.V is (batch_size, max_length, units)\n",
        "    score = self.V(tf.nn.tanh(\n",
        "        self.W1(query_with_time_axis) + self.W2(values)))\n",
        "\n",
        "    # attention_weights shape == (batch_size, max_length, 1)\n",
        "    attention_weights = tf.nn.softmax(score, axis=1)\n",
        "\n",
        "    # context_vector shape after sum == (batch_size, hidden_size)\n",
        "    context_vector = attention_weights * values\n",
        "    context_vector = tf.reduce_sum(context_vector, axis=1)\n",
        "\n",
        "    return context_vector, attention_weights"
      ],
      "execution_count": null,
      "outputs": []
    },
    {
      "cell_type": "markdown",
      "metadata": {
        "id": "1ZrjzEl7t2vE"
      },
      "source": [
        "The attention vector returns the attention weights and context vector and is used in the Decoder Model.\n",
        "\n"
      ]
    },
    {
      "cell_type": "code",
      "metadata": {
        "id": "TcKYOcoouPb7"
      },
      "source": [
        "class Decoder(tf.keras.Model):\n",
        "  def __init__(self, vocab_size, embedding_dim, dec_units, batch_sz):\n",
        "    super(Decoder, self).__init__()\n",
        "    self.batch_sz = batch_sz\n",
        "    self.dec_units = dec_units\n",
        "    self.embedding = tf.keras.layers.Embedding(vocab_size, embedding_dim)\n",
        "    self.gru = tf.keras.layers.GRU(self.dec_units,\n",
        "                                   return_sequences=True,\n",
        "                                   return_state=True,\n",
        "                                   recurrent_initializer='glorot_uniform')\n",
        "    self.fc = tf.keras.layers.Dense(vocab_size)\n",
        "\n",
        "    # used for attention\n",
        "    self.attention = BahdanauAttention(self.dec_units)\n",
        "\n",
        "  def call(self, x, hidden, enc_output):\n",
        "    # enc_output shape == (batch_size, max_length, hidden_size)\n",
        "    context_vector, attention_weights = self.attention(hidden, enc_output)\n",
        "\n",
        "    # x shape after passing through embedding == (batch_size, 1, embedding_dim)\n",
        "    x = self.embedding(x)\n",
        "\n",
        "    # x shape after concatenation == (batch_size, 1, embedding_dim + hidden_size)\n",
        "    x = tf.concat([tf.expand_dims(context_vector, 1), x], axis=-1)\n",
        "\n",
        "    # passing the concatenated vector to the GRU\n",
        "    output, state = self.gru(x)\n",
        "\n",
        "    # output shape == (batch_size * 1, hidden_size)\n",
        "    output = tf.reshape(output, (-1, output.shape[2]))\n",
        "\n",
        "    # output shape == (batch_size, vocab)\n",
        "    x = self.fc(output)\n",
        "\n",
        "    return x, state, attention_weights"
      ],
      "execution_count": null,
      "outputs": []
    },
    {
      "cell_type": "markdown",
      "metadata": {
        "id": "YygUatndugjR"
      },
      "source": [
        "The decoder treats the output as a set of Logits and returns the id (of word index) with the maximum logit value."
      ]
    },
    {
      "cell_type": "markdown",
      "metadata": {
        "id": "j6ZQYM1nuZCy"
      },
      "source": [
        "# Define the optimizer and the loss function"
      ]
    },
    {
      "cell_type": "code",
      "metadata": {
        "id": "FPHjMLT_uShA"
      },
      "source": [
        "optimizer = tf.keras.optimizers.Adam()\n",
        "loss_object = tf.keras.losses.SparseCategoricalCrossentropy(\n",
        "    from_logits=True, reduction='none')\n",
        "\n",
        "def loss_function(real, pred):\n",
        "  mask = tf.math.logical_not(tf.math.equal(real, 0))\n",
        "  loss_ = loss_object(real, pred)\n",
        "\n",
        "  mask = tf.cast(mask, dtype=loss_.dtype)\n",
        "  loss_ *= mask\n",
        "\n",
        "  return tf.reduce_mean(loss_)"
      ],
      "execution_count": null,
      "outputs": []
    },
    {
      "cell_type": "code",
      "metadata": {
        "id": "fBGSdNzbvBb9"
      },
      "source": [
        "encoder = Encoder(vocab_inp_size, embedding_dim, units, BATCH_SIZE)\n",
        "attention_layer = BahdanauAttention(10)\n",
        "decoder = Decoder(vocab_tar_size, embedding_dim, units, BATCH_SIZE)"
      ],
      "execution_count": null,
      "outputs": []
    },
    {
      "cell_type": "markdown",
      "metadata": {
        "id": "Ui_XrXFSux5r"
      },
      "source": [
        "# Checkpoints (Object-based saving)"
      ]
    },
    {
      "cell_type": "code",
      "metadata": {
        "id": "SDd6V8ghufFw"
      },
      "source": [
        "checkpoint_dir = './training_checkpoints'\n",
        "checkpoint_prefix = os.path.join(checkpoint_dir, \"ckpt\")\n",
        "checkpoint = tf.train.Checkpoint(optimizer=optimizer,\n",
        "                                 encoder=encoder,\n",
        "                                 decoder=decoder)"
      ],
      "execution_count": null,
      "outputs": []
    },
    {
      "cell_type": "markdown",
      "metadata": {
        "id": "FJiL6V0SvLST"
      },
      "source": [
        "# Training\n",
        "\n",
        "*   The input is fed to the encoder to get encoder output and hidden states.\n",
        "*   The encoder output, encoder hidden state and the decoder input (which is the start token) is passed to the decoder.\n",
        "\n",
        "* The decoder returns the predictions and the decoder hidden state.\n",
        "\n",
        "* The decoder hidden state is then passed back into the model and the predictions are used to calculate the loss.\n",
        "\n",
        "* Teacher forcing is then to decide the next input to the decoder.\n",
        "\n",
        "**Note: Teacher forcing is the technique where the target word is passed as the next input to the decoder.\n",
        "Concretely, Teacher forcing is like a teacher correcting a student as the student gets trained on a new concept. As the right input is given by the teacher to the student during training, student will learn the new concept faster and efficiently.**\n",
        "\n",
        "* The final step is to calculate the gradients and apply it to the optimizer and backpropagate."
      ]
    },
    {
      "cell_type": "code",
      "metadata": {
        "id": "qiHRMRcPvK8N"
      },
      "source": [
        "@tf.function # Static method\n",
        "def train_step(inp, targ, enc_hidden):\n",
        "  loss = 0\n",
        "\n",
        "  with tf.GradientTape() as tape:\n",
        "    enc_output, enc_hidden = encoder(inp, enc_hidden)\n",
        "\n",
        "    dec_hidden = enc_hidden\n",
        "\n",
        "    dec_input = tf.expand_dims([targ_lang.word_index['<start>']] * BATCH_SIZE, 1)\n",
        "\n",
        "    # Teacher forcing - feeding the target as the next input\n",
        "    for t in range(1, targ.shape[1]):\n",
        "      # passing enc_output to the decoder\n",
        "      predictions, dec_hidden, _ = decoder(dec_input, dec_hidden, enc_output)\n",
        "\n",
        "      loss += loss_function(targ[:, t], predictions)\n",
        "\n",
        "      # using teacher forcing\n",
        "      dec_input = tf.expand_dims(targ[:, t], 1)\n",
        "\n",
        "  batch_loss = (loss / int(targ.shape[1]))\n",
        "\n",
        "  variables = encoder.trainable_variables + decoder.trainable_variables\n",
        "\n",
        "  gradients = tape.gradient(loss, variables)\n",
        "\n",
        "  optimizer.apply_gradients(zip(gradients, variables))\n",
        "\n",
        "  return batch_loss"
      ],
      "execution_count": null,
      "outputs": []
    },
    {
      "cell_type": "code",
      "metadata": {
        "id": "80bgs72nwITv",
        "outputId": "4d0d1f6c-1c4d-4b8b-ebaf-db3eab1ee992",
        "colab": {
          "base_uri": "https://localhost:8080/",
          "height": 1000
        }
      },
      "source": [
        "EPOCHS = 10\n",
        "\n",
        "for epoch in range(EPOCHS):\n",
        "  start = time.time()\n",
        "\n",
        "  enc_hidden = encoder.initialize_hidden_state()\n",
        "  total_loss = 0\n",
        "\n",
        "  for (batch, (inp, targ)) in enumerate(dataset.take(steps_per_epoch)):\n",
        "    batch_loss = train_step(inp, targ, enc_hidden)\n",
        "    total_loss += batch_loss\n",
        "\n",
        "    if batch % 100 == 0:\n",
        "      print('Epoch {} Batch {} Loss {:.4f}'.format(epoch + 1,\n",
        "                                                   batch,\n",
        "                                                   batch_loss.numpy()))\n",
        "  # saving (checkpoint) the model every 2 epochs\n",
        "  if (epoch + 1) % 2 == 0:\n",
        "    checkpoint.save(file_prefix = checkpoint_prefix)\n",
        "\n",
        "  print('Epoch {} Loss {:.4f}'.format(epoch + 1,\n",
        "                                      total_loss / steps_per_epoch))\n",
        "  print('Time taken for 1 epoch {} sec\\n'.format(time.time() - start))"
      ],
      "execution_count": null,
      "outputs": [
        {
          "output_type": "stream",
          "text": [
            "Epoch 1 Batch 0 Loss 2.8551\n",
            "Epoch 1 Batch 100 Loss 1.4611\n",
            "Epoch 1 Batch 200 Loss 1.3388\n",
            "Epoch 1 Batch 300 Loss 1.1714\n",
            "Epoch 1 Batch 400 Loss 1.2058\n",
            "Epoch 1 Batch 500 Loss 1.0720\n",
            "Epoch 1 Batch 600 Loss 1.1028\n",
            "Epoch 1 Batch 700 Loss 1.0320\n",
            "Epoch 1 Batch 800 Loss 1.0067\n",
            "Epoch 1 Batch 900 Loss 1.0181\n",
            "Epoch 1 Batch 1000 Loss 0.9604\n",
            "Epoch 1 Batch 1100 Loss 1.0310\n",
            "Epoch 1 Batch 1200 Loss 0.8781\n",
            "Epoch 1 Loss 1.1449\n",
            "Time taken for 1 epoch 192.10087990760803 sec\n",
            "\n",
            "Epoch 2 Batch 0 Loss 0.7907\n",
            "Epoch 2 Batch 100 Loss 0.7874\n",
            "Epoch 2 Batch 200 Loss 0.7972\n",
            "Epoch 2 Batch 300 Loss 0.7278\n",
            "Epoch 2 Batch 400 Loss 0.7413\n",
            "Epoch 2 Batch 500 Loss 0.6391\n",
            "Epoch 2 Batch 600 Loss 0.6511\n",
            "Epoch 2 Batch 700 Loss 0.7084\n",
            "Epoch 2 Batch 800 Loss 0.5753\n",
            "Epoch 2 Batch 900 Loss 0.5969\n",
            "Epoch 2 Batch 1000 Loss 0.5414\n",
            "Epoch 2 Batch 1100 Loss 0.5337\n",
            "Epoch 2 Batch 1200 Loss 0.4624\n",
            "Epoch 2 Loss 0.6546\n",
            "Time taken for 1 epoch 175.81089973449707 sec\n",
            "\n",
            "Epoch 3 Batch 0 Loss 0.4297\n",
            "Epoch 3 Batch 100 Loss 0.4135\n",
            "Epoch 3 Batch 200 Loss 0.4323\n",
            "Epoch 3 Batch 300 Loss 0.4354\n",
            "Epoch 3 Batch 400 Loss 0.3912\n",
            "Epoch 3 Batch 500 Loss 0.4046\n",
            "Epoch 3 Batch 600 Loss 0.3915\n",
            "Epoch 3 Batch 700 Loss 0.4226\n",
            "Epoch 3 Batch 800 Loss 0.4251\n",
            "Epoch 3 Batch 900 Loss 0.4557\n",
            "Epoch 3 Batch 1000 Loss 0.3664\n",
            "Epoch 3 Batch 1100 Loss 0.4225\n",
            "Epoch 3 Batch 1200 Loss 0.3604\n",
            "Epoch 3 Loss 0.4037\n",
            "Time taken for 1 epoch 175.38477563858032 sec\n",
            "\n",
            "Epoch 4 Batch 0 Loss 0.1975\n",
            "Epoch 4 Batch 100 Loss 0.2872\n",
            "Epoch 4 Batch 200 Loss 0.2379\n",
            "Epoch 4 Batch 300 Loss 0.2205\n",
            "Epoch 4 Batch 400 Loss 0.3367\n",
            "Epoch 4 Batch 500 Loss 0.3150\n",
            "Epoch 4 Batch 600 Loss 0.2852\n",
            "Epoch 4 Batch 700 Loss 0.2813\n",
            "Epoch 4 Batch 800 Loss 0.3373\n",
            "Epoch 4 Batch 900 Loss 0.2698\n",
            "Epoch 4 Batch 1000 Loss 0.2890\n",
            "Epoch 4 Batch 1100 Loss 0.2444\n",
            "Epoch 4 Batch 1200 Loss 0.3004\n",
            "Epoch 4 Loss 0.2813\n",
            "Time taken for 1 epoch 177.6362977027893 sec\n",
            "\n",
            "Epoch 5 Batch 0 Loss 0.1696\n",
            "Epoch 5 Batch 100 Loss 0.1698\n",
            "Epoch 5 Batch 200 Loss 0.1845\n",
            "Epoch 5 Batch 300 Loss 0.1775\n",
            "Epoch 5 Batch 400 Loss 0.1871\n",
            "Epoch 5 Batch 500 Loss 0.2292\n",
            "Epoch 5 Batch 600 Loss 0.2176\n",
            "Epoch 5 Batch 700 Loss 0.2397\n",
            "Epoch 5 Batch 800 Loss 0.2627\n",
            "Epoch 5 Batch 900 Loss 0.1838\n",
            "Epoch 5 Batch 1000 Loss 0.2504\n",
            "Epoch 5 Batch 1100 Loss 0.2492\n",
            "Epoch 5 Batch 1200 Loss 0.2185\n",
            "Epoch 5 Loss 0.2119\n",
            "Time taken for 1 epoch 175.33734560012817 sec\n",
            "\n",
            "Epoch 6 Batch 0 Loss 0.1577\n",
            "Epoch 6 Batch 100 Loss 0.1584\n",
            "Epoch 6 Batch 200 Loss 0.1108\n",
            "Epoch 6 Batch 300 Loss 0.1129\n",
            "Epoch 6 Batch 400 Loss 0.1676\n",
            "Epoch 6 Batch 500 Loss 0.1580\n",
            "Epoch 6 Batch 600 Loss 0.1472\n",
            "Epoch 6 Batch 700 Loss 0.1569\n",
            "Epoch 6 Batch 800 Loss 0.1839\n",
            "Epoch 6 Batch 900 Loss 0.2467\n",
            "Epoch 6 Batch 1000 Loss 0.1882\n",
            "Epoch 6 Batch 1100 Loss 0.1858\n",
            "Epoch 6 Batch 1200 Loss 0.1944\n",
            "Epoch 6 Loss 0.1704\n",
            "Time taken for 1 epoch 175.1591637134552 sec\n",
            "\n",
            "Epoch 7 Batch 0 Loss 0.0978\n",
            "Epoch 7 Batch 100 Loss 0.1095\n",
            "Epoch 7 Batch 200 Loss 0.1265\n",
            "Epoch 7 Batch 300 Loss 0.1208\n",
            "Epoch 7 Batch 400 Loss 0.1549\n",
            "Epoch 7 Batch 500 Loss 0.1463\n",
            "Epoch 7 Batch 600 Loss 0.1447\n",
            "Epoch 7 Batch 700 Loss 0.1463\n",
            "Epoch 7 Batch 800 Loss 0.1668\n",
            "Epoch 7 Batch 900 Loss 0.1576\n",
            "Epoch 7 Batch 1000 Loss 0.1839\n",
            "Epoch 7 Batch 1100 Loss 0.1619\n",
            "Epoch 7 Batch 1200 Loss 0.2206\n",
            "Epoch 7 Loss 0.1422\n",
            "Time taken for 1 epoch 172.9068706035614 sec\n",
            "\n",
            "Epoch 8 Batch 0 Loss 0.0901\n",
            "Epoch 8 Batch 100 Loss 0.1237\n",
            "Epoch 8 Batch 200 Loss 0.0992\n",
            "Epoch 8 Batch 300 Loss 0.0817\n",
            "Epoch 8 Batch 400 Loss 0.1168\n",
            "Epoch 8 Batch 500 Loss 0.1209\n",
            "Epoch 8 Batch 600 Loss 0.1116\n",
            "Epoch 8 Batch 700 Loss 0.1126\n",
            "Epoch 8 Batch 800 Loss 0.1473\n",
            "Epoch 8 Batch 900 Loss 0.1455\n",
            "Epoch 8 Batch 1000 Loss 0.1066\n",
            "Epoch 8 Batch 1100 Loss 0.1447\n",
            "Epoch 8 Batch 1200 Loss 0.1121\n",
            "Epoch 8 Loss 0.1220\n",
            "Time taken for 1 epoch 173.64110136032104 sec\n",
            "\n",
            "Epoch 9 Batch 0 Loss 0.1156\n",
            "Epoch 9 Batch 100 Loss 0.0821\n",
            "Epoch 9 Batch 200 Loss 0.0673\n",
            "Epoch 9 Batch 300 Loss 0.0999\n",
            "Epoch 9 Batch 400 Loss 0.1004\n",
            "Epoch 9 Batch 500 Loss 0.0928\n",
            "Epoch 9 Batch 600 Loss 0.1202\n",
            "Epoch 9 Batch 700 Loss 0.1250\n",
            "Epoch 9 Batch 800 Loss 0.1103\n",
            "Epoch 9 Batch 900 Loss 0.1047\n",
            "Epoch 9 Batch 1000 Loss 0.1174\n",
            "Epoch 9 Batch 1100 Loss 0.1272\n",
            "Epoch 9 Batch 1200 Loss 0.1304\n",
            "Epoch 9 Loss 0.1087\n",
            "Time taken for 1 epoch 171.50957942008972 sec\n",
            "\n",
            "Epoch 10 Batch 0 Loss 0.0886\n",
            "Epoch 10 Batch 100 Loss 0.0701\n",
            "Epoch 10 Batch 200 Loss 0.0967\n",
            "Epoch 10 Batch 300 Loss 0.0824\n",
            "Epoch 10 Batch 400 Loss 0.0764\n",
            "Epoch 10 Batch 500 Loss 0.1064\n",
            "Epoch 10 Batch 600 Loss 0.0939\n",
            "Epoch 10 Batch 700 Loss 0.1156\n",
            "Epoch 10 Batch 800 Loss 0.1078\n",
            "Epoch 10 Batch 900 Loss 0.1068\n",
            "Epoch 10 Batch 1000 Loss 0.1115\n",
            "Epoch 10 Batch 1100 Loss 0.1132\n",
            "Epoch 10 Batch 1200 Loss 0.1452\n",
            "Epoch 10 Loss 0.0990\n",
            "Time taken for 1 epoch 172.83899116516113 sec\n",
            "\n"
          ],
          "name": "stdout"
        }
      ]
    },
    {
      "cell_type": "markdown",
      "metadata": {
        "id": "DX63nQ7n3Jk-"
      },
      "source": [
        "# Evaluation\n",
        "\n",
        "The evaluate function is similar to the training loop, except we don't use teacher forcing here. \n",
        "\n",
        "* The input to the decoder at each time step is its previous predictions along with the hidden state and the encoder output.\n",
        "* Stop predicting when the model predicts the end token and store the attention weights for every time step."
      ]
    },
    {
      "cell_type": "code",
      "metadata": {
        "id": "yooeFKDW3bGp"
      },
      "source": [
        "def evaluate(sentence):\n",
        "  attention_plot = np.zeros((max_length_targ, max_length_inp))\n",
        "\n",
        "  sentence = preprocess_sentence(sentence)\n",
        "\n",
        "  inputs = [inp_lang.word_index[i] for i in sentence.split(' ')]\n",
        "  inputs = tf.keras.preprocessing.sequence.pad_sequences([inputs],\n",
        "                                                         maxlen=max_length_inp,\n",
        "                                                         padding='post')\n",
        "  inputs = tf.convert_to_tensor(inputs)\n",
        "\n",
        "  result = ''\n",
        "\n",
        "  hidden = [tf.zeros((1, units))]\n",
        "  enc_out, enc_hidden = encoder(inputs, hidden)\n",
        "\n",
        "  dec_hidden = enc_hidden\n",
        "  dec_input = tf.expand_dims([targ_lang.word_index['<start>']], 0)\n",
        "\n",
        "  for t in range(max_length_targ):\n",
        "    predictions, dec_hidden, attention_weights = decoder(dec_input,\n",
        "                                                         dec_hidden,\n",
        "                                                         enc_out)\n",
        "\n",
        "    # storing the attention weights to plot later on\n",
        "    attention_weights = tf.reshape(attention_weights, (-1, ))\n",
        "    attention_plot[t] = attention_weights.numpy()\n",
        "\n",
        "    predicted_id = tf.argmax(predictions[0]).numpy()\n",
        "\n",
        "    result += targ_lang.index_word[predicted_id] + ' '\n",
        "\n",
        "    if targ_lang.index_word[predicted_id] == '<end>':\n",
        "      return result, sentence, attention_plot\n",
        "\n",
        "    # the predicted ID is fed back into the model\n",
        "    dec_input = tf.expand_dims([predicted_id], 0)\n",
        "\n",
        "  return result, sentence, attention_plot"
      ],
      "execution_count": null,
      "outputs": []
    },
    {
      "cell_type": "code",
      "metadata": {
        "id": "hSKxnZzW3erl"
      },
      "source": [
        "# function for plotting the attention weights\n",
        "def plot_attention(attention, sentence, predicted_sentence):\n",
        "  fig = plt.figure(figsize=(10,10))\n",
        "  ax = fig.add_subplot(1, 1, 1)\n",
        "  ax.matshow(attention, cmap='viridis')\n",
        "\n",
        "  fontdict = {'fontsize': 14}\n",
        "\n",
        "  ax.set_xticklabels([''] + sentence, fontdict=fontdict, rotation=90)\n",
        "  ax.set_yticklabels([''] + predicted_sentence, fontdict=fontdict)\n",
        "\n",
        "  ax.xaxis.set_major_locator(ticker.MultipleLocator(1))\n",
        "  ax.yaxis.set_major_locator(ticker.MultipleLocator(1))\n",
        "\n",
        "  plt.show()"
      ],
      "execution_count": null,
      "outputs": []
    },
    {
      "cell_type": "code",
      "metadata": {
        "id": "26E-3Rxi3h2g"
      },
      "source": [
        "def translate(sentence):\n",
        "  result, sentence, attention_plot = evaluate(sentence)\n",
        "\n",
        "  print('Input: %s' % (sentence))\n",
        "  print('Predicted translation: {}'.format(result))\n",
        "\n",
        "  attention_plot = attention_plot[:len(result.split(' ')), :len(sentence.split(' '))]\n",
        "  plot_attention(attention_plot, sentence.split(' '), result.split(' '))"
      ],
      "execution_count": null,
      "outputs": []
    },
    {
      "cell_type": "markdown",
      "metadata": {
        "id": "jI9qCvkw3luM"
      },
      "source": [
        "# Testing\n",
        "\n",
        "Finally, in this section, we'll load the latest model checkpoint and test the model on a new sentence."
      ]
    },
    {
      "cell_type": "code",
      "metadata": {
        "id": "rrrc9khr30o8",
        "outputId": "dee9c90f-3989-45e4-a76e-2b06b2ea40a9",
        "colab": {
          "base_uri": "https://localhost:8080/",
          "height": 34
        }
      },
      "source": [
        "# restoring the latest checkpoint in checkpoint_dir\n",
        "checkpoint.restore(tf.train.latest_checkpoint(checkpoint_dir))"
      ],
      "execution_count": null,
      "outputs": [
        {
          "output_type": "execute_result",
          "data": {
            "text/plain": [
              "<tensorflow.python.training.tracking.util.CheckpointLoadStatus at 0x7f12b5b88fd0>"
            ]
          },
          "metadata": {
            "tags": []
          },
          "execution_count": 56
        }
      ]
    },
    {
      "cell_type": "code",
      "metadata": {
        "id": "5OAu8YGU342S",
        "outputId": "e2fe1416-a4ab-454b-9178-1c92ab117272",
        "colab": {
          "base_uri": "https://localhost:8080/",
          "height": 675
        }
      },
      "source": [
        "translate(u\"The king is life\")"
      ],
      "execution_count": null,
      "outputs": [
        {
          "output_type": "stream",
          "text": [
            "Input: <start> the king is life <end>\n",
            "Predicted translation: der konig ist leben . <end> \n"
          ],
          "name": "stdout"
        },
        {
          "output_type": "display_data",
          "data": {
            "image/png": "[encoded data removed]",
            "text/plain": [
              "<Figure size 720x720 with 1 Axes>"
            ]
          },
          "metadata": {
            "tags": [],
            "needs_background": "light"
          }
        }
      ]
    },
    {
      "cell_type": "markdown",
      "metadata": {
        "id": "zLWOlseO5V71"
      },
      "source": [
        "# Conclusion.\n",
        "\n",
        "Well, the model doesn't perform as well as Google's NMT but it's a good start."
      ]
    }
  ]
}